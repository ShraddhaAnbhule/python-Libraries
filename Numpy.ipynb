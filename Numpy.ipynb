{
 "cells": [
  {
   "cell_type": "code",
   "execution_count": 1,
   "id": "45ecdc7c",
   "metadata": {},
   "outputs": [],
   "source": [
    "#import numpy in python\n",
    "import numpy as np"
   ]
  },
  {
   "cell_type": "code",
   "execution_count": 2,
   "id": "5cf89d8f",
   "metadata": {},
   "outputs": [],
   "source": [
    "#The array object in NumPy is called ndarray."
   ]
  },
  {
   "cell_type": "code",
   "execution_count": 3,
   "id": "54785fd4",
   "metadata": {},
   "outputs": [
    {
     "name": "stdout",
     "output_type": "stream",
     "text": [
      "[1 2 3 4 5]\n",
      "<class 'numpy.ndarray'>\n"
     ]
    }
   ],
   "source": [
    "#We can create a NumPy ndarray object by using the array() function.\n",
    "\n",
    "arr = np.array([1, 2, 3, 4, 5])\n",
    "print(arr)\n",
    "print(type(arr))"
   ]
  },
  {
   "cell_type": "code",
   "execution_count": 4,
   "id": "411e52a7",
   "metadata": {},
   "outputs": [
    {
     "name": "stdout",
     "output_type": "stream",
     "text": [
      "[1 2 3 4 5]\n"
     ]
    }
   ],
   "source": [
    "#Use a tuple to create a NumPy array:\n",
    "\n",
    "arr = np.array((1, 2, 3, 4, 5))\n",
    "print(arr)"
   ]
  },
  {
   "cell_type": "code",
   "execution_count": 5,
   "id": "2af04a94",
   "metadata": {},
   "outputs": [],
   "source": [
    "#finding the data type of each array item  "
   ]
  },
  {
   "cell_type": "code",
   "execution_count": 6,
   "id": "31633a2c",
   "metadata": {},
   "outputs": [
    {
     "name": "stdout",
     "output_type": "stream",
     "text": [
      "Each item is of the type int32\n"
     ]
    }
   ],
   "source": [
    "import numpy as np  \n",
    "a = np.array([1,2,30])\n",
    "print(\"Each item is of the type\",a.dtype)  "
   ]
  },
  {
   "cell_type": "code",
   "execution_count": 7,
   "id": "d60af1b8",
   "metadata": {},
   "outputs": [
    {
     "name": "stdout",
     "output_type": "stream",
     "text": [
      "Each item is of the type float64\n"
     ]
    }
   ],
   "source": [
    "import numpy as np  \n",
    "a = np.array([1.0,2.8,30])\n",
    "print(\"Each item is of the type\",a.dtype)  "
   ]
  },
  {
   "cell_type": "code",
   "execution_count": 8,
   "id": "a5de6026",
   "metadata": {},
   "outputs": [
    {
     "name": "stdout",
     "output_type": "stream",
     "text": [
      "Each item is of the type <U11\n"
     ]
    }
   ],
   "source": [
    "import numpy as np  \n",
    "a = np.array([5,\"fgg\",\"ram\"])\n",
    "print(\"Each item is of the type\",a.dtype)  # <u means unicode"
   ]
  },
  {
   "cell_type": "markdown",
   "id": "b24d4e22",
   "metadata": {},
   "source": [
    "# Dimensions in Arrays"
   ]
  },
  {
   "cell_type": "markdown",
   "id": "15e3bb7b",
   "metadata": {},
   "source": [
    "#### 0-D Arrays"
   ]
  },
  {
   "cell_type": "code",
   "execution_count": 9,
   "id": "bf0fd240",
   "metadata": {},
   "outputs": [
    {
     "name": "stdout",
     "output_type": "stream",
     "text": [
      "4\n",
      "dimension:  0\n"
     ]
    }
   ],
   "source": [
    "a= np.array(4)\n",
    "print(a)\n",
    "print(\"dimension: \",a.ndim) \n",
    "# |ndim means dimention"
   ]
  },
  {
   "cell_type": "markdown",
   "id": "84bc2345",
   "metadata": {},
   "source": [
    "#### 1D Array"
   ]
  },
  {
   "cell_type": "code",
   "execution_count": 10,
   "id": "82b98809",
   "metadata": {},
   "outputs": [
    {
     "name": "stdout",
     "output_type": "stream",
     "text": [
      "[20 30 40]\n",
      "dimension:  1\n"
     ]
    }
   ],
   "source": [
    "a= np.array([20,30,40])\n",
    "print(a)\n",
    "print(\"dimension: \",a.ndim) \n",
    "# |ndim means dimention"
   ]
  },
  {
   "cell_type": "markdown",
   "id": "145469ef",
   "metadata": {},
   "source": [
    "#### 2D Array"
   ]
  },
  {
   "cell_type": "code",
   "execution_count": 11,
   "id": "1a4244a7",
   "metadata": {},
   "outputs": [
    {
     "name": "stdout",
     "output_type": "stream",
     "text": [
      "[[20 30 40]\n",
      " [23 33 22]]\n",
      "dimension:  2\n"
     ]
    }
   ],
   "source": [
    "a= np.array([[20,30,40],[23,33,22]])\n",
    "print(a)\n",
    "print(\"dimension: \",a.ndim) \n",
    "# |ndim means dimention"
   ]
  },
  {
   "cell_type": "markdown",
   "id": "c0269df7",
   "metadata": {},
   "source": [
    "#### 3D Array"
   ]
  },
  {
   "cell_type": "code",
   "execution_count": 12,
   "id": "a0405419",
   "metadata": {},
   "outputs": [
    {
     "name": "stdout",
     "output_type": "stream",
     "text": [
      "[[[20 30 40]\n",
      "  [20 30 40]\n",
      "  [20 30 40]]]\n",
      "dimension:  3\n"
     ]
    }
   ],
   "source": [
    "a= np.array([[[20,30,40],[20,30,40],[20,30,40]]])\n",
    "print(a)\n",
    "print(\"dimension: \",a.ndim) \n",
    "# |ndim means dimention"
   ]
  },
  {
   "cell_type": "code",
   "execution_count": 13,
   "id": "ba83031e",
   "metadata": {},
   "outputs": [],
   "source": [
    "#### 4D Array"
   ]
  },
  {
   "cell_type": "code",
   "execution_count": 14,
   "id": "284ab56b",
   "metadata": {},
   "outputs": [
    {
     "name": "stdout",
     "output_type": "stream",
     "text": [
      "[[[[20 30 40]\n",
      "   [20 30 40]\n",
      "   [20 30 40]]]]\n",
      "dimension:  4\n"
     ]
    }
   ],
   "source": [
    "a= np.array([[[[20,30,40],[20,30,40],[20,30,40]]]])\n",
    "print(a)\n",
    "print(\"dimension: \",a.ndim) \n",
    "# |ndim means dimention"
   ]
  },
  {
   "cell_type": "markdown",
   "id": "3bddae08",
   "metadata": {},
   "source": [
    "## Finding the shape and size of the array"
   ]
  },
  {
   "cell_type": "code",
   "execution_count": 15,
   "id": "e3f5e41d",
   "metadata": {},
   "outputs": [
    {
     "name": "stdout",
     "output_type": "stream",
     "text": [
      "[[1 2 3 4 5 6 7]]\n",
      "Array Size: 7\n",
      "Shape: (1, 7)\n"
     ]
    }
   ],
   "source": [
    "a = np.array([[1,2,3,4,5,6,7]])\n",
    "print(a)\n",
    "print(\"Array Size:\",a.size)  \n",
    "print(\"Shape:\",a.shape)  "
   ]
  },
  {
   "cell_type": "markdown",
   "id": "87313dcd",
   "metadata": {},
   "source": [
    "## Reshaping the array objects"
   ]
  },
  {
   "cell_type": "code",
   "execution_count": 16,
   "id": "b71e1e2b",
   "metadata": {},
   "outputs": [
    {
     "name": "stdout",
     "output_type": "stream",
     "text": [
      "printing the original array..\n",
      "[[1 2]\n",
      " [3 4]\n",
      " [5 6]]\n",
      "printing the reshaped array..\n",
      "[[1 2 3]\n",
      " [4 5 6]]\n"
     ]
    }
   ],
   "source": [
    "a = np.array([[1,2],[3,4],[5,6]])  \n",
    "print(\"printing the original array..\")  \n",
    "print(a)  \n",
    "a=a.reshape(2,3)  \n",
    "print(\"printing the reshaped array..\")  \n",
    "print(a)  \n"
   ]
  },
  {
   "cell_type": "markdown",
   "id": "d0e78a98",
   "metadata": {},
   "source": [
    "## Slicing in the Array"
   ]
  },
  {
   "cell_type": "code",
   "execution_count": 17,
   "id": "7bc5e417",
   "metadata": {},
   "outputs": [
    {
     "name": "stdout",
     "output_type": "stream",
     "text": [
      "2\n",
      "5\n"
     ]
    }
   ],
   "source": [
    "a = np.array([[1,2],[3,4],[5,6]]) \n",
    "print(a[0,1])\n",
    "print(a[2,0])"
   ]
  },
  {
   "cell_type": "markdown",
   "id": "c7f44963",
   "metadata": {},
   "source": [
    "## linspace"
   ]
  },
  {
   "cell_type": "code",
   "execution_count": 18,
   "id": "827eab89",
   "metadata": {},
   "outputs": [
    {
     "name": "stdout",
     "output_type": "stream",
     "text": [
      "[ 5.          6.11111111  7.22222222  8.33333333  9.44444444 10.55555556\n",
      " 11.66666667 12.77777778 13.88888889 15.        ]\n"
     ]
    }
   ],
   "source": [
    " #prints 10 values which are evenly spaced over the given interval 5-15  \n",
    "a=np.linspace(5,15,10)\n",
    "print(a)  "
   ]
  },
  {
   "cell_type": "markdown",
   "id": "a1194ace",
   "metadata": {},
   "source": [
    "## Finding the maximum, minimum, and sum, Mean of the array elements"
   ]
  },
  {
   "cell_type": "code",
   "execution_count": 19,
   "id": "f09af0a2",
   "metadata": {},
   "outputs": [
    {
     "name": "stdout",
     "output_type": "stream",
     "text": [
      "The array: [ 1  2  3 10 15  4]\n",
      "The maximum element: 15\n",
      "The minimum element: 1\n",
      "The sum of the elements: 35\n",
      "The sum of the elements: 5.833333333333333\n"
     ]
    }
   ],
   "source": [
    "a = np.array([1,2,3,10,15,4])  \n",
    "print(\"The array:\",a)  \n",
    "print(\"The maximum element:\",a.max())  \n",
    "print(\"The minimum element:\",a.min())  \n",
    "print(\"The sum of the elements:\",a.sum())  \n",
    "print(\"The sum of the elements:\",a.mean()) "
   ]
  },
  {
   "cell_type": "markdown",
   "id": "fe126129",
   "metadata": {},
   "source": [
    "## Print zeros "
   ]
  },
  {
   "cell_type": "code",
   "execution_count": 20,
   "id": "142c268e",
   "metadata": {},
   "outputs": [
    {
     "name": "stdout",
     "output_type": "stream",
     "text": [
      "[0. 0. 0. 0. 0. 0. 0. 0. 0. 0. 0. 0. 0. 0. 0.]\n"
     ]
    }
   ],
   "source": [
    "#  Print zeros \n",
    "a=np.zeros(15)\n",
    "print(a)"
   ]
  },
  {
   "cell_type": "code",
   "execution_count": 21,
   "id": "2338a1b2",
   "metadata": {},
   "outputs": [
    {
     "name": "stdout",
     "output_type": "stream",
     "text": [
      " 2 rows and 3 cols :\n",
      "[[0. 0. 0.]\n",
      " [0. 0. 0.]]\n"
     ]
    }
   ],
   "source": [
    "#print zeros with 2 rows and 3 columns ?\n",
    "a= np.zeros((2,3))\n",
    "print(\" 2 rows and 3 cols :\" )\n",
    "print(a)\n",
    "\n"
   ]
  },
  {
   "cell_type": "markdown",
   "id": "55e66666",
   "metadata": {},
   "source": [
    "## use of eye() diagonal values ?"
   ]
  },
  {
   "cell_type": "code",
   "execution_count": 22,
   "id": "6c614295",
   "metadata": {},
   "outputs": [
    {
     "name": "stdout",
     "output_type": "stream",
     "text": [
      "\n",
      "diaglonal values :  [[1. 0. 0. 0.]\n",
      " [0. 1. 0. 0.]\n",
      " [0. 0. 1. 0.]\n",
      " [0. 0. 0. 1.]]\n"
     ]
    }
   ],
   "source": [
    "a= np.eye(4)\n",
    "print(\"\\ndiaglonal values : \",a)"
   ]
  },
  {
   "cell_type": "code",
   "execution_count": 23,
   "id": "5e7f92eb",
   "metadata": {},
   "outputs": [
    {
     "name": "stdout",
     "output_type": "stream",
     "text": [
      "\n",
      "diaglonal values :  [[1 0 0 0]\n",
      " [0 2 0 0]\n",
      " [0 0 3 0]\n",
      " [0 0 0 4]]\n"
     ]
    }
   ],
   "source": [
    "a= np.diag([1,2,3,4])\n",
    "print(\"\\ndiaglonal values : \",a)"
   ]
  },
  {
   "cell_type": "code",
   "execution_count": null,
   "id": "a8d74271",
   "metadata": {},
   "outputs": [],
   "source": []
  }
 ],
 "metadata": {
  "kernelspec": {
   "display_name": "Python 3 (ipykernel)",
   "language": "python",
   "name": "python3"
  },
  "language_info": {
   "codemirror_mode": {
    "name": "ipython",
    "version": 3
   },
   "file_extension": ".py",
   "mimetype": "text/x-python",
   "name": "python",
   "nbconvert_exporter": "python",
   "pygments_lexer": "ipython3",
   "version": "3.9.12"
  }
 },
 "nbformat": 4,
 "nbformat_minor": 5
}
